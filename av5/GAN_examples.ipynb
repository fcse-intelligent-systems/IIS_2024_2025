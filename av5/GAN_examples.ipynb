{
  "nbformat": 4,
  "nbformat_minor": 0,
  "metadata": {
    "colab": {
      "provenance": []
    },
    "kernelspec": {
      "name": "python3",
      "display_name": "Python 3"
    },
    "language_info": {
      "name": "python"
    }
  },
  "cells": [
    {
      "cell_type": "code",
      "source": [
        "import torch\n",
        "import numpy as np\n",
        "import torch.nn as nn\n",
        "import matplotlib.pyplot as plt\n",
        "from torch.optim import Adam\n",
        "from torchvision.datasets import CIFAR10\n",
        "from torch.utils.data import DataLoader\n",
        "from torchvision.transforms import Compose, ToTensor, Normalize\n",
        "\n",
        "from models import Generator, Discriminator\n",
        "from model_utils import train"
      ],
      "metadata": {
        "id": "hQglSkMDK5qK"
      },
      "execution_count": 1,
      "outputs": []
    },
    {
      "cell_type": "code",
      "source": [
        "transform_func = Compose([\n",
        "    ToTensor(),\n",
        "    Normalize([0.5], [0.5])\n",
        "])"
      ],
      "metadata": {
        "id": "RlpxWDPKLwfB"
      },
      "execution_count": 2,
      "outputs": []
    },
    {
      "cell_type": "code",
      "source": [
        "train_dataset = CIFAR10('data', train=True, download=True, transform=transform_func)"
      ],
      "metadata": {
        "colab": {
          "base_uri": "https://localhost:8080/"
        },
        "id": "4d3yuPgDqYRf",
        "outputId": "b8fb0602-439e-45c6-f347-80387e687a62"
      },
      "execution_count": 3,
      "outputs": [
        {
          "output_type": "stream",
          "name": "stderr",
          "text": [
            "100%|██████████| 170M/170M [00:04<00:00, 37.9MB/s]\n"
          ]
        }
      ]
    },
    {
      "cell_type": "code",
      "source": [
        "train_dataset"
      ],
      "metadata": {
        "colab": {
          "base_uri": "https://localhost:8080/"
        },
        "id": "nxeKUgo5-aeM",
        "outputId": "228e3ef9-96c2-40bd-b0be-3e888579a248"
      },
      "execution_count": 4,
      "outputs": [
        {
          "output_type": "execute_result",
          "data": {
            "text/plain": [
              "Dataset CIFAR10\n",
              "    Number of datapoints: 50000\n",
              "    Root location: data\n",
              "    Split: Train\n",
              "    StandardTransform\n",
              "Transform: Compose(\n",
              "               ToTensor()\n",
              "               Normalize(mean=[0.5], std=[0.5])\n",
              "           )"
            ]
          },
          "metadata": {},
          "execution_count": 4
        }
      ]
    },
    {
      "cell_type": "code",
      "source": [
        "image, label = train_dataset[0]"
      ],
      "metadata": {
        "id": "tV_kuAwI-ePY"
      },
      "execution_count": 6,
      "outputs": []
    },
    {
      "cell_type": "code",
      "source": [
        "plt.imshow(image.permute(1, 2, 0).numpy())\n",
        "plt.show()"
      ],
      "metadata": {
        "colab": {
          "base_uri": "https://localhost:8080/",
          "height": 467
        },
        "id": "H6GkGtknq0f8",
        "outputId": "e10acc6d-5105-4973-8917-543212be7435"
      },
      "execution_count": 7,
      "outputs": [
        {
          "output_type": "stream",
          "name": "stderr",
          "text": [
            "WARNING:matplotlib.image:Clipping input data to the valid range for imshow with RGB data ([0..1] for floats or [0..255] for integers). Got range [-1.0..1.0].\n"
          ]
        },
        {
          "output_type": "display_data",
          "data": {
            "text/plain": [
              "<Figure size 640x480 with 1 Axes>"
            ],
            "image/png": "[encoded data removed]"
          },
          "metadata": {}
        }
      ]
    },
    {
      "cell_type": "code",
      "source": [
        "train_loader = DataLoader(train_dataset, batch_size=512, shuffle=True)"
      ],
      "metadata": {
        "id": "zJcotdDPqa4t"
      },
      "execution_count": 9,
      "outputs": []
    },
    {
      "cell_type": "code",
      "source": [
        "image.shape"
      ],
      "metadata": {
        "colab": {
          "base_uri": "https://localhost:8080/"
        },
        "id": "QWuQBcTGBwj1",
        "outputId": "de243830-ec54-4f06-c4da-c185e000e7a5"
      },
      "execution_count": 10,
      "outputs": [
        {
          "output_type": "execute_result",
          "data": {
            "text/plain": [
              "torch.Size([3, 32, 32])"
            ]
          },
          "metadata": {},
          "execution_count": 10
        }
      ]
    },
    {
      "cell_type": "code",
      "source": [
        "generator = Generator(latent_dim=100, img_shape=(3, 32, 32)).to('cuda')"
      ],
      "metadata": {
        "id": "p5pw6y0tBmTz"
      },
      "execution_count": 11,
      "outputs": []
    },
    {
      "cell_type": "code",
      "source": [
        "generator"
      ],
      "metadata": {
        "colab": {
          "base_uri": "https://localhost:8080/"
        },
        "id": "7s8g3VCxB42N",
        "outputId": "4b9e0100-d5bd-4086-989a-6f436d0b6426"
      },
      "execution_count": 12,
      "outputs": [
        {
          "output_type": "execute_result",
          "data": {
            "text/plain": [
              "Generator(\n",
              "  (model): Sequential(\n",
              "    (0): Linear(in_features=100, out_features=256, bias=True)\n",
              "    (1): LeakyReLU(negative_slope=0.2)\n",
              "    (2): BatchNorm1d(256, eps=1e-05, momentum=0.8, affine=True, track_running_stats=True)\n",
              "    (3): Linear(in_features=256, out_features=512, bias=True)\n",
              "    (4): LeakyReLU(negative_slope=0.2)\n",
              "    (5): BatchNorm1d(512, eps=1e-05, momentum=0.8, affine=True, track_running_stats=True)\n",
              "    (6): Linear(in_features=512, out_features=1024, bias=True)\n",
              "    (7): LeakyReLU(negative_slope=0.2)\n",
              "    (8): BatchNorm1d(1024, eps=1e-05, momentum=0.8, affine=True, track_running_stats=True)\n",
              "    (9): Linear(in_features=1024, out_features=3072, bias=True)\n",
              "    (10): Tanh()\n",
              "  )\n",
              ")"
            ]
          },
          "metadata": {},
          "execution_count": 12
        }
      ]
    },
    {
      "cell_type": "code",
      "source": [
        "discriminator = Discriminator(img_shape=(3, 32, 32)).to('cuda')"
      ],
      "metadata": {
        "id": "ysIJOmtDB7LO"
      },
      "execution_count": 13,
      "outputs": []
    },
    {
      "cell_type": "code",
      "source": [
        "discriminator"
      ],
      "metadata": {
        "colab": {
          "base_uri": "https://localhost:8080/"
        },
        "id": "tA_-otsKCCQ0",
        "outputId": "da5bce15-d125-4136-9f09-5674ad42fbb0"
      },
      "execution_count": 14,
      "outputs": [
        {
          "output_type": "execute_result",
          "data": {
            "text/plain": [
              "Discriminator(\n",
              "  (model): Sequential(\n",
              "    (0): Linear(in_features=3072, out_features=512, bias=True)\n",
              "    (1): LeakyReLU(negative_slope=0.2)\n",
              "    (2): Linear(in_features=512, out_features=512, bias=True)\n",
              "    (3): LeakyReLU(negative_slope=0.2)\n",
              "    (4): Dropout(p=0.4, inplace=False)\n",
              "    (5): Linear(in_features=512, out_features=512, bias=True)\n",
              "    (6): LeakyReLU(negative_slope=0.2)\n",
              "    (7): Dropout(p=0.4, inplace=False)\n",
              "    (8): Linear(in_features=512, out_features=1, bias=True)\n",
              "    (9): Sigmoid()\n",
              "  )\n",
              ")"
            ]
          },
          "metadata": {},
          "execution_count": 14
        }
      ]
    },
    {
      "cell_type": "code",
      "source": [
        "optimizer_g = Adam(generator.parameters(), lr=0.001)"
      ],
      "metadata": {
        "id": "ruLrKIknCFQm"
      },
      "execution_count": 15,
      "outputs": []
    },
    {
      "cell_type": "code",
      "source": [
        "optimizer_d = Adam(generator.parameters(), lr=0.001)"
      ],
      "metadata": {
        "id": "LeSnFO-jCN7w"
      },
      "execution_count": 16,
      "outputs": []
    },
    {
      "cell_type": "code",
      "source": [
        "criterion = nn.BCELoss()"
      ],
      "metadata": {
        "id": "RKAs82h5CRsS"
      },
      "execution_count": 17,
      "outputs": []
    },
    {
      "cell_type": "code",
      "source": [
        "train(generator=generator, discriminator=discriminator,\n",
        "      data_loader=train_loader,\n",
        "      optimizer_generator=optimizer_g, optimizer_discriminator=optimizer_d,\n",
        "      criterion=criterion,\n",
        "      latent_dim=100, epochs=5)"
      ],
      "metadata": {
        "colab": {
          "base_uri": "https://localhost:8080/",
          "height": 1000
        },
        "id": "Wljzz0neCXrT",
        "outputId": "c61197ff-0e1e-4a62-af54-a14bbf44a33d"
      },
      "execution_count": 18,
      "outputs": [
        {
          "output_type": "stream",
          "name": "stdout",
          "text": [
            "Epoch 1/5 | D Loss: 0.6931 | G Loss: 0.6987\n",
            "Epoch 1/5 | D Loss: 0.7023 | G Loss: 0.6823\n",
            "Epoch 1/5 | D Loss: 0.7115 | G Loss: 0.6632\n",
            "Epoch 1/5 | D Loss: 0.7226 | G Loss: 0.6407\n",
            "Epoch 1/5 | D Loss: 0.7339 | G Loss: 0.6224\n",
            "Epoch 1/5 | D Loss: 0.7489 | G Loss: 0.5983\n",
            "Epoch 1/5 | D Loss: 0.7650 | G Loss: 0.5737\n",
            "Epoch 1/5 | D Loss: 0.7814 | G Loss: 0.5489\n",
            "Epoch 1/5 | D Loss: 0.7981 | G Loss: 0.5291\n",
            "Epoch 1/5 | D Loss: 0.8114 | G Loss: 0.5092\n",
            "Epoch 1/5 | D Loss: 0.8265 | G Loss: 0.4900\n",
            "Epoch 1/5 | D Loss: 0.8399 | G Loss: 0.4701\n",
            "Epoch 1/5 | D Loss: 0.8553 | G Loss: 0.4601\n",
            "Epoch 1/5 | D Loss: 0.8663 | G Loss: 0.4452\n",
            "Epoch 1/5 | D Loss: 0.8757 | G Loss: 0.4391\n",
            "Epoch 1/5 | D Loss: 0.8808 | G Loss: 0.4237\n",
            "Epoch 1/5 | D Loss: 0.8914 | G Loss: 0.4169\n",
            "Epoch 1/5 | D Loss: 0.9007 | G Loss: 0.4147\n",
            "Epoch 1/5 | D Loss: 0.9024 | G Loss: 0.4075\n",
            "Epoch 1/5 | D Loss: 0.9121 | G Loss: 0.3979\n",
            "Epoch 1/5 | D Loss: 0.9117 | G Loss: 0.3992\n",
            "Epoch 1/5 | D Loss: 0.9172 | G Loss: 0.3917\n",
            "Epoch 1/5 | D Loss: 0.9294 | G Loss: 0.3850\n",
            "Epoch 1/5 | D Loss: 0.9259 | G Loss: 0.3868\n",
            "Epoch 1/5 | D Loss: 0.9344 | G Loss: 0.3743\n",
            "Epoch 1/5 | D Loss: 0.9368 | G Loss: 0.3704\n",
            "Epoch 1/5 | D Loss: 0.9405 | G Loss: 0.3698\n",
            "Epoch 1/5 | D Loss: 0.9457 | G Loss: 0.3716\n",
            "Epoch 1/5 | D Loss: 0.9448 | G Loss: 0.3649\n",
            "Epoch 1/5 | D Loss: 0.9516 | G Loss: 0.3647\n",
            "Epoch 1/5 | D Loss: 0.9608 | G Loss: 0.3625\n",
            "Epoch 1/5 | D Loss: 0.9648 | G Loss: 0.3573\n",
            "Epoch 1/5 | D Loss: 0.9708 | G Loss: 0.3492\n",
            "Epoch 1/5 | D Loss: 0.9671 | G Loss: 0.3485\n",
            "Epoch 1/5 | D Loss: 0.9798 | G Loss: 0.3445\n",
            "Epoch 1/5 | D Loss: 0.9846 | G Loss: 0.3474\n",
            "Epoch 1/5 | D Loss: 0.9839 | G Loss: 0.3363\n",
            "Epoch 1/5 | D Loss: 0.9859 | G Loss: 0.3398\n",
            "Epoch 1/5 | D Loss: 0.9808 | G Loss: 0.3373\n",
            "Epoch 1/5 | D Loss: 0.9865 | G Loss: 0.3394\n",
            "Epoch 1/5 | D Loss: 0.9879 | G Loss: 0.3279\n",
            "Epoch 1/5 | D Loss: 0.9959 | G Loss: 0.3299\n",
            "Epoch 1/5 | D Loss: 0.9940 | G Loss: 0.3311\n",
            "Epoch 1/5 | D Loss: 1.0015 | G Loss: 0.3281\n",
            "Epoch 1/5 | D Loss: 1.0023 | G Loss: 0.3284\n",
            "Epoch 1/5 | D Loss: 1.0085 | G Loss: 0.3199\n",
            "Epoch 1/5 | D Loss: 1.0110 | G Loss: 0.3215\n",
            "Epoch 1/5 | D Loss: 1.0122 | G Loss: 0.3239\n",
            "Epoch 1/5 | D Loss: 1.0159 | G Loss: 0.3167\n",
            "Epoch 1/5 | D Loss: 1.0087 | G Loss: 0.3172\n",
            "Epoch 1/5 | D Loss: 1.0176 | G Loss: 0.3142\n",
            "Epoch 1/5 | D Loss: 1.0163 | G Loss: 0.3166\n",
            "Epoch 1/5 | D Loss: 1.0169 | G Loss: 0.3116\n",
            "Epoch 1/5 | D Loss: 1.0224 | G Loss: 0.3119\n",
            "Epoch 1/5 | D Loss: 1.0190 | G Loss: 0.3118\n",
            "Epoch 1/5 | D Loss: 1.0259 | G Loss: 0.3096\n",
            "Epoch 1/5 | D Loss: 1.0292 | G Loss: 0.3103\n",
            "Epoch 1/5 | D Loss: 1.0300 | G Loss: 0.3028\n",
            "Epoch 1/5 | D Loss: 1.0291 | G Loss: 0.3007\n",
            "Epoch 1/5 | D Loss: 1.0312 | G Loss: 0.3030\n",
            "Epoch 1/5 | D Loss: 1.0339 | G Loss: 0.3034\n",
            "Epoch 1/5 | D Loss: 1.0305 | G Loss: 0.3055\n",
            "Epoch 1/5 | D Loss: 1.0405 | G Loss: 0.2989\n",
            "Epoch 1/5 | D Loss: 1.0370 | G Loss: 0.2995\n",
            "Epoch 1/5 | D Loss: 1.0460 | G Loss: 0.2965\n",
            "Epoch 1/5 | D Loss: 1.0483 | G Loss: 0.2931\n",
            "Epoch 1/5 | D Loss: 1.0424 | G Loss: 0.2963\n",
            "Epoch 1/5 | D Loss: 1.0475 | G Loss: 0.2914\n",
            "Epoch 1/5 | D Loss: 1.0500 | G Loss: 0.2949\n",
            "Epoch 1/5 | D Loss: 1.0482 | G Loss: 0.2928\n",
            "Epoch 1/5 | D Loss: 1.0523 | G Loss: 0.2923\n",
            "Epoch 1/5 | D Loss: 1.0501 | G Loss: 0.2960\n",
            "Epoch 1/5 | D Loss: 1.0565 | G Loss: 0.2883\n",
            "Epoch 1/5 | D Loss: 1.0505 | G Loss: 0.2876\n",
            "Epoch 1/5 | D Loss: 1.0647 | G Loss: 0.2917\n",
            "Epoch 1/5 | D Loss: 1.0570 | G Loss: 0.2895\n",
            "Epoch 1/5 | D Loss: 1.0569 | G Loss: 0.2942\n",
            "Epoch 1/5 | D Loss: 1.0617 | G Loss: 0.2844\n",
            "Epoch 1/5 | D Loss: 1.0662 | G Loss: 0.2879\n",
            "Epoch 1/5 | D Loss: 1.0610 | G Loss: 0.2873\n",
            "Epoch 1/5 | D Loss: 1.0624 | G Loss: 0.2864\n",
            "Epoch 1/5 | D Loss: 1.0669 | G Loss: 0.2856\n",
            "Epoch 1/5 | D Loss: 1.0655 | G Loss: 0.2836\n",
            "Epoch 1/5 | D Loss: 1.0758 | G Loss: 0.2772\n",
            "Epoch 1/5 | D Loss: 1.0717 | G Loss: 0.2808\n",
            "Epoch 1/5 | D Loss: 1.0721 | G Loss: 0.2813\n",
            "Epoch 1/5 | D Loss: 1.0740 | G Loss: 0.2831\n",
            "Epoch 1/5 | D Loss: 1.0826 | G Loss: 0.2791\n",
            "Epoch 1/5 | D Loss: 1.0724 | G Loss: 0.2800\n",
            "Epoch 1/5 | D Loss: 1.0690 | G Loss: 0.2787\n",
            "Epoch 1/5 | D Loss: 1.0725 | G Loss: 0.2768\n",
            "Epoch 1/5 | D Loss: 1.0774 | G Loss: 0.2691\n",
            "Epoch 1/5 | D Loss: 1.0764 | G Loss: 0.2777\n",
            "Epoch 1/5 | D Loss: 1.0882 | G Loss: 0.2791\n",
            "Epoch 1/5 | D Loss: 1.0722 | G Loss: 0.2686\n",
            "Epoch 1/5 | D Loss: 1.0851 | G Loss: 0.2726\n",
            "Epoch 1/5 | D Loss: 1.0805 | G Loss: 0.2712\n",
            "Epoch 1/5 | D Loss: 1.0792 | G Loss: 0.2707\n",
            "Epoch 2/5 | D Loss: 1.0815 | G Loss: 0.2727\n",
            "Epoch 2/5 | D Loss: 1.0839 | G Loss: 0.2693\n",
            "Epoch 2/5 | D Loss: 1.0865 | G Loss: 0.2701\n",
            "Epoch 2/5 | D Loss: 1.0870 | G Loss: 0.2677\n",
            "Epoch 2/5 | D Loss: 1.0922 | G Loss: 0.2676\n",
            "Epoch 2/5 | D Loss: 1.0938 | G Loss: 0.2692\n",
            "Epoch 2/5 | D Loss: 1.0969 | G Loss: 0.2672\n",
            "Epoch 2/5 | D Loss: 1.0970 | G Loss: 0.2645\n",
            "Epoch 2/5 | D Loss: 1.0880 | G Loss: 0.2651\n",
            "Epoch 2/5 | D Loss: 1.0989 | G Loss: 0.2646\n",
            "Epoch 2/5 | D Loss: 1.0980 | G Loss: 0.2634\n",
            "Epoch 2/5 | D Loss: 1.0977 | G Loss: 0.2617\n",
            "Epoch 2/5 | D Loss: 1.0983 | G Loss: 0.2639\n",
            "Epoch 2/5 | D Loss: 1.1061 | G Loss: 0.2567\n",
            "Epoch 2/5 | D Loss: 1.1053 | G Loss: 0.2587\n",
            "Epoch 2/5 | D Loss: 1.1095 | G Loss: 0.2576\n",
            "Epoch 2/5 | D Loss: 1.1096 | G Loss: 0.2578\n",
            "Epoch 2/5 | D Loss: 1.1104 | G Loss: 0.2559\n",
            "Epoch 2/5 | D Loss: 1.1108 | G Loss: 0.2502\n",
            "Epoch 2/5 | D Loss: 1.1007 | G Loss: 0.2547\n",
            "Epoch 2/5 | D Loss: 1.1154 | G Loss: 0.2527\n",
            "Epoch 2/5 | D Loss: 1.1167 | G Loss: 0.2493\n",
            "Epoch 2/5 | D Loss: 1.1168 | G Loss: 0.2502\n",
            "Epoch 2/5 | D Loss: 1.1234 | G Loss: 0.2490\n",
            "Epoch 2/5 | D Loss: 1.1219 | G Loss: 0.2498\n",
            "Epoch 2/5 | D Loss: 1.1165 | G Loss: 0.2483\n",
            "Epoch 2/5 | D Loss: 1.1278 | G Loss: 0.2506\n",
            "Epoch 2/5 | D Loss: 1.1245 | G Loss: 0.2483\n",
            "Epoch 2/5 | D Loss: 1.1227 | G Loss: 0.2469\n",
            "Epoch 2/5 | D Loss: 1.1357 | G Loss: 0.2457\n",
            "Epoch 2/5 | D Loss: 1.1205 | G Loss: 0.2520\n",
            "Epoch 2/5 | D Loss: 1.1270 | G Loss: 0.2459\n",
            "Epoch 2/5 | D Loss: 1.1213 | G Loss: 0.2485\n",
            "Epoch 2/5 | D Loss: 1.1311 | G Loss: 0.2458\n",
            "Epoch 2/5 | D Loss: 1.1399 | G Loss: 0.2401\n",
            "Epoch 2/5 | D Loss: 1.1347 | G Loss: 0.2475\n",
            "Epoch 2/5 | D Loss: 1.1292 | G Loss: 0.2479\n",
            "Epoch 2/5 | D Loss: 1.1459 | G Loss: 0.2419\n",
            "Epoch 2/5 | D Loss: 1.1397 | G Loss: 0.2452\n",
            "Epoch 2/5 | D Loss: 1.1414 | G Loss: 0.2405\n",
            "Epoch 2/5 | D Loss: 1.1487 | G Loss: 0.2406\n",
            "Epoch 2/5 | D Loss: 1.1356 | G Loss: 0.2419\n",
            "Epoch 2/5 | D Loss: 1.1445 | G Loss: 0.2404\n",
            "Epoch 2/5 | D Loss: 1.1406 | G Loss: 0.2358\n",
            "Epoch 2/5 | D Loss: 1.1457 | G Loss: 0.2389\n",
            "Epoch 2/5 | D Loss: 1.1403 | G Loss: 0.2435\n",
            "Epoch 2/5 | D Loss: 1.1527 | G Loss: 0.2368\n",
            "Epoch 2/5 | D Loss: 1.1538 | G Loss: 0.2331\n",
            "Epoch 2/5 | D Loss: 1.1587 | G Loss: 0.2366\n",
            "Epoch 2/5 | D Loss: 1.1497 | G Loss: 0.2357\n",
            "Epoch 2/5 | D Loss: 1.1531 | G Loss: 0.2376\n",
            "Epoch 2/5 | D Loss: 1.1543 | G Loss: 0.2340\n",
            "Epoch 2/5 | D Loss: 1.1564 | G Loss: 0.2346\n",
            "Epoch 2/5 | D Loss: 1.1609 | G Loss: 0.2328\n",
            "Epoch 2/5 | D Loss: 1.1626 | G Loss: 0.2287\n",
            "Epoch 2/5 | D Loss: 1.1595 | G Loss: 0.2299\n",
            "Epoch 2/5 | D Loss: 1.1648 | G Loss: 0.2285\n",
            "Epoch 2/5 | D Loss: 1.1611 | G Loss: 0.2279\n",
            "Epoch 2/5 | D Loss: 1.1654 | G Loss: 0.2311\n",
            "Epoch 2/5 | D Loss: 1.1662 | G Loss: 0.2276\n",
            "Epoch 2/5 | D Loss: 1.1627 | G Loss: 0.2303\n",
            "Epoch 2/5 | D Loss: 1.1699 | G Loss: 0.2256\n",
            "Epoch 2/5 | D Loss: 1.1734 | G Loss: 0.2223\n",
            "Epoch 2/5 | D Loss: 1.1708 | G Loss: 0.2230\n",
            "Epoch 2/5 | D Loss: 1.1728 | G Loss: 0.2256\n",
            "Epoch 2/5 | D Loss: 1.1704 | G Loss: 0.2188\n",
            "Epoch 2/5 | D Loss: 1.1812 | G Loss: 0.2187\n",
            "Epoch 2/5 | D Loss: 1.1664 | G Loss: 0.2218\n",
            "Epoch 2/5 | D Loss: 1.1795 | G Loss: 0.2170\n",
            "Epoch 2/5 | D Loss: 1.1899 | G Loss: 0.2181\n",
            "Epoch 2/5 | D Loss: 1.1834 | G Loss: 0.2167\n",
            "Epoch 2/5 | D Loss: 1.1838 | G Loss: 0.2144\n",
            "Epoch 2/5 | D Loss: 1.1891 | G Loss: 0.2168\n",
            "Epoch 2/5 | D Loss: 1.1853 | G Loss: 0.2138\n",
            "Epoch 2/5 | D Loss: 1.1941 | G Loss: 0.2153\n",
            "Epoch 2/5 | D Loss: 1.1883 | G Loss: 0.2172\n",
            "Epoch 2/5 | D Loss: 1.1871 | G Loss: 0.2089\n",
            "Epoch 2/5 | D Loss: 1.1950 | G Loss: 0.2132\n",
            "Epoch 2/5 | D Loss: 1.2014 | G Loss: 0.2053\n",
            "Epoch 2/5 | D Loss: 1.1940 | G Loss: 0.2133\n",
            "Epoch 2/5 | D Loss: 1.1961 | G Loss: 0.2090\n",
            "Epoch 2/5 | D Loss: 1.2033 | G Loss: 0.2063\n",
            "Epoch 2/5 | D Loss: 1.2074 | G Loss: 0.2047\n",
            "Epoch 2/5 | D Loss: 1.2097 | G Loss: 0.2049\n",
            "Epoch 2/5 | D Loss: 1.2046 | G Loss: 0.2047\n",
            "Epoch 2/5 | D Loss: 1.2092 | G Loss: 0.2067\n",
            "Epoch 2/5 | D Loss: 1.2151 | G Loss: 0.2043\n",
            "Epoch 2/5 | D Loss: 1.2072 | G Loss: 0.2043\n",
            "Epoch 2/5 | D Loss: 1.2125 | G Loss: 0.2079\n",
            "Epoch 2/5 | D Loss: 1.2126 | G Loss: 0.2012\n",
            "Epoch 2/5 | D Loss: 1.2127 | G Loss: 0.2032\n",
            "Epoch 2/5 | D Loss: 1.2116 | G Loss: 0.2024\n",
            "Epoch 2/5 | D Loss: 1.2101 | G Loss: 0.2050\n",
            "Epoch 2/5 | D Loss: 1.2207 | G Loss: 0.2003\n",
            "Epoch 2/5 | D Loss: 1.2130 | G Loss: 0.2005\n",
            "Epoch 2/5 | D Loss: 1.2126 | G Loss: 0.2015\n",
            "Epoch 2/5 | D Loss: 1.2104 | G Loss: 0.2013\n",
            "Epoch 2/5 | D Loss: 1.2156 | G Loss: 0.1985\n",
            "Epoch 3/5 | D Loss: 1.2220 | G Loss: 0.2014\n",
            "Epoch 3/5 | D Loss: 1.2202 | G Loss: 0.1995\n",
            "Epoch 3/5 | D Loss: 1.2146 | G Loss: 0.1971\n",
            "Epoch 3/5 | D Loss: 1.2232 | G Loss: 0.1998\n",
            "Epoch 3/5 | D Loss: 1.2182 | G Loss: 0.2016\n",
            "Epoch 3/5 | D Loss: 1.2200 | G Loss: 0.1959\n",
            "Epoch 3/5 | D Loss: 1.2168 | G Loss: 0.1998\n",
            "Epoch 3/5 | D Loss: 1.2271 | G Loss: 0.1951\n",
            "Epoch 3/5 | D Loss: 1.2215 | G Loss: 0.1991\n",
            "Epoch 3/5 | D Loss: 1.2324 | G Loss: 0.1931\n",
            "Epoch 3/5 | D Loss: 1.2220 | G Loss: 0.1978\n",
            "Epoch 3/5 | D Loss: 1.2208 | G Loss: 0.1944\n",
            "Epoch 3/5 | D Loss: 1.2286 | G Loss: 0.1960\n",
            "Epoch 3/5 | D Loss: 1.2270 | G Loss: 0.1977\n",
            "Epoch 3/5 | D Loss: 1.2224 | G Loss: 0.1985\n",
            "Epoch 3/5 | D Loss: 1.2244 | G Loss: 0.1957\n",
            "Epoch 3/5 | D Loss: 1.2191 | G Loss: 0.1989\n",
            "Epoch 3/5 | D Loss: 1.2271 | G Loss: 0.1956\n",
            "Epoch 3/5 | D Loss: 1.2293 | G Loss: 0.1940\n",
            "Epoch 3/5 | D Loss: 1.2245 | G Loss: 0.1935\n",
            "Epoch 3/5 | D Loss: 1.2286 | G Loss: 0.1992\n",
            "Epoch 3/5 | D Loss: 1.2213 | G Loss: 0.1970\n",
            "Epoch 3/5 | D Loss: 1.2260 | G Loss: 0.1986\n",
            "Epoch 3/5 | D Loss: 1.2201 | G Loss: 0.1954\n",
            "Epoch 3/5 | D Loss: 1.2284 | G Loss: 0.1945\n",
            "Epoch 3/5 | D Loss: 1.2295 | G Loss: 0.2004\n",
            "Epoch 3/5 | D Loss: 1.2236 | G Loss: 0.1930\n",
            "Epoch 3/5 | D Loss: 1.2315 | G Loss: 0.1957\n",
            "Epoch 3/5 | D Loss: 1.2283 | G Loss: 0.1978\n",
            "Epoch 3/5 | D Loss: 1.2330 | G Loss: 0.1934\n",
            "Epoch 3/5 | D Loss: 1.2356 | G Loss: 0.1966\n",
            "Epoch 3/5 | D Loss: 1.2268 | G Loss: 0.1973\n",
            "Epoch 3/5 | D Loss: 1.2343 | G Loss: 0.1914\n",
            "Epoch 3/5 | D Loss: 1.2339 | G Loss: 0.1913\n",
            "Epoch 3/5 | D Loss: 1.2258 | G Loss: 0.1947\n",
            "Epoch 3/5 | D Loss: 1.2343 | G Loss: 0.1951\n",
            "Epoch 3/5 | D Loss: 1.2236 | G Loss: 0.1944\n",
            "Epoch 3/5 | D Loss: 1.2258 | G Loss: 0.1943\n",
            "Epoch 3/5 | D Loss: 1.2246 | G Loss: 0.1970\n",
            "Epoch 3/5 | D Loss: 1.2350 | G Loss: 0.1928\n",
            "Epoch 3/5 | D Loss: 1.2265 | G Loss: 0.1936\n",
            "Epoch 3/5 | D Loss: 1.2381 | G Loss: 0.1935\n",
            "Epoch 3/5 | D Loss: 1.2324 | G Loss: 0.1938\n",
            "Epoch 3/5 | D Loss: 1.2187 | G Loss: 0.1919\n",
            "Epoch 3/5 | D Loss: 1.2374 | G Loss: 0.1943\n",
            "Epoch 3/5 | D Loss: 1.2287 | G Loss: 0.1916\n",
            "Epoch 3/5 | D Loss: 1.2345 | G Loss: 0.1913\n",
            "Epoch 3/5 | D Loss: 1.2270 | G Loss: 0.1955\n",
            "Epoch 3/5 | D Loss: 1.2329 | G Loss: 0.1942\n",
            "Epoch 3/5 | D Loss: 1.2263 | G Loss: 0.1940\n",
            "Epoch 3/5 | D Loss: 1.2192 | G Loss: 0.1965\n",
            "Epoch 3/5 | D Loss: 1.2305 | G Loss: 0.1953\n",
            "Epoch 3/5 | D Loss: 1.2290 | G Loss: 0.1924\n",
            "Epoch 3/5 | D Loss: 1.2296 | G Loss: 0.1949\n",
            "Epoch 3/5 | D Loss: 1.2325 | G Loss: 0.1928\n",
            "Epoch 3/5 | D Loss: 1.2298 | G Loss: 0.1926\n",
            "Epoch 3/5 | D Loss: 1.2257 | G Loss: 0.1944\n",
            "Epoch 3/5 | D Loss: 1.2384 | G Loss: 0.1931\n",
            "Epoch 3/5 | D Loss: 1.2302 | G Loss: 0.1952\n",
            "Epoch 3/5 | D Loss: 1.2302 | G Loss: 0.1928\n",
            "Epoch 3/5 | D Loss: 1.2341 | G Loss: 0.1940\n",
            "Epoch 3/5 | D Loss: 1.2305 | G Loss: 0.1938\n",
            "Epoch 3/5 | D Loss: 1.2330 | G Loss: 0.1930\n",
            "Epoch 3/5 | D Loss: 1.2269 | G Loss: 0.1887\n",
            "Epoch 3/5 | D Loss: 1.2295 | G Loss: 0.1910\n",
            "Epoch 3/5 | D Loss: 1.2321 | G Loss: 0.1918\n",
            "Epoch 3/5 | D Loss: 1.2412 | G Loss: 0.1894\n",
            "Epoch 3/5 | D Loss: 1.2377 | G Loss: 0.1934\n",
            "Epoch 3/5 | D Loss: 1.2346 | G Loss: 0.1911\n",
            "Epoch 3/5 | D Loss: 1.2377 | G Loss: 0.1933\n",
            "Epoch 3/5 | D Loss: 1.2327 | G Loss: 0.1931\n",
            "Epoch 3/5 | D Loss: 1.2300 | G Loss: 0.1937\n",
            "Epoch 3/5 | D Loss: 1.2376 | G Loss: 0.1933\n",
            "Epoch 3/5 | D Loss: 1.2443 | G Loss: 0.1922\n",
            "Epoch 3/5 | D Loss: 1.2304 | G Loss: 0.1943\n",
            "Epoch 3/5 | D Loss: 1.2366 | G Loss: 0.1920\n",
            "Epoch 3/5 | D Loss: 1.2278 | G Loss: 0.1954\n",
            "Epoch 3/5 | D Loss: 1.2376 | G Loss: 0.1938\n",
            "Epoch 3/5 | D Loss: 1.2324 | G Loss: 0.1936\n",
            "Epoch 3/5 | D Loss: 1.2336 | G Loss: 0.1933\n",
            "Epoch 3/5 | D Loss: 1.2303 | G Loss: 0.1917\n",
            "Epoch 3/5 | D Loss: 1.2373 | G Loss: 0.1917\n",
            "Epoch 3/5 | D Loss: 1.2381 | G Loss: 0.1953\n",
            "Epoch 3/5 | D Loss: 1.2305 | G Loss: 0.1928\n",
            "Epoch 3/5 | D Loss: 1.2367 | G Loss: 0.1914\n",
            "Epoch 3/5 | D Loss: 1.2388 | G Loss: 0.1928\n",
            "Epoch 3/5 | D Loss: 1.2296 | G Loss: 0.1919\n",
            "Epoch 3/5 | D Loss: 1.2294 | G Loss: 0.1919\n",
            "Epoch 3/5 | D Loss: 1.2286 | G Loss: 0.1899\n",
            "Epoch 3/5 | D Loss: 1.2355 | G Loss: 0.1923\n",
            "Epoch 3/5 | D Loss: 1.2270 | G Loss: 0.1924\n",
            "Epoch 3/5 | D Loss: 1.2340 | G Loss: 0.1942\n",
            "Epoch 3/5 | D Loss: 1.2397 | G Loss: 0.1943\n",
            "Epoch 3/5 | D Loss: 1.2295 | G Loss: 0.1966\n",
            "Epoch 3/5 | D Loss: 1.2340 | G Loss: 0.1911\n",
            "Epoch 3/5 | D Loss: 1.2290 | G Loss: 0.1937\n",
            "Epoch 3/5 | D Loss: 1.2419 | G Loss: 0.1913\n",
            "Epoch 3/5 | D Loss: 1.2294 | G Loss: 0.1923\n",
            "Epoch 4/5 | D Loss: 1.2350 | G Loss: 0.1923\n",
            "Epoch 4/5 | D Loss: 1.2291 | G Loss: 0.1914\n",
            "Epoch 4/5 | D Loss: 1.2294 | G Loss: 0.1935\n",
            "Epoch 4/5 | D Loss: 1.2399 | G Loss: 0.1863\n",
            "Epoch 4/5 | D Loss: 1.2483 | G Loss: 0.1914\n",
            "Epoch 4/5 | D Loss: 1.2357 | G Loss: 0.1917\n",
            "Epoch 4/5 | D Loss: 1.2322 | G Loss: 0.1913\n",
            "Epoch 4/5 | D Loss: 1.2381 | G Loss: 0.1888\n",
            "Epoch 4/5 | D Loss: 1.2378 | G Loss: 0.1945\n",
            "Epoch 4/5 | D Loss: 1.2431 | G Loss: 0.1905\n",
            "Epoch 4/5 | D Loss: 1.2346 | G Loss: 0.1891\n",
            "Epoch 4/5 | D Loss: 1.2348 | G Loss: 0.1884\n",
            "Epoch 4/5 | D Loss: 1.2435 | G Loss: 0.1917\n",
            "Epoch 4/5 | D Loss: 1.2309 | G Loss: 0.1909\n",
            "Epoch 4/5 | D Loss: 1.2247 | G Loss: 0.1939\n",
            "Epoch 4/5 | D Loss: 1.2325 | G Loss: 0.1923\n",
            "Epoch 4/5 | D Loss: 1.2398 | G Loss: 0.1953\n",
            "Epoch 4/5 | D Loss: 1.2355 | G Loss: 0.1927\n",
            "Epoch 4/5 | D Loss: 1.2312 | G Loss: 0.1938\n",
            "Epoch 4/5 | D Loss: 1.2423 | G Loss: 0.1941\n",
            "Epoch 4/5 | D Loss: 1.2380 | G Loss: 0.1884\n",
            "Epoch 4/5 | D Loss: 1.2322 | G Loss: 0.1911\n",
            "Epoch 4/5 | D Loss: 1.2441 | G Loss: 0.1891\n",
            "Epoch 4/5 | D Loss: 1.2385 | G Loss: 0.1908\n",
            "Epoch 4/5 | D Loss: 1.2391 | G Loss: 0.1922\n",
            "Epoch 4/5 | D Loss: 1.2327 | G Loss: 0.1899\n",
            "Epoch 4/5 | D Loss: 1.2434 | G Loss: 0.1918\n",
            "Epoch 4/5 | D Loss: 1.2414 | G Loss: 0.1943\n",
            "Epoch 4/5 | D Loss: 1.2384 | G Loss: 0.1940\n",
            "Epoch 4/5 | D Loss: 1.2417 | G Loss: 0.1940\n",
            "Epoch 4/5 | D Loss: 1.2344 | G Loss: 0.1937\n",
            "Epoch 4/5 | D Loss: 1.2354 | G Loss: 0.1924\n",
            "Epoch 4/5 | D Loss: 1.2348 | G Loss: 0.1867\n",
            "Epoch 4/5 | D Loss: 1.2343 | G Loss: 0.1927\n",
            "Epoch 4/5 | D Loss: 1.2384 | G Loss: 0.1918\n",
            "Epoch 4/5 | D Loss: 1.2390 | G Loss: 0.1913\n",
            "Epoch 4/5 | D Loss: 1.2383 | G Loss: 0.1904\n",
            "Epoch 4/5 | D Loss: 1.2407 | G Loss: 0.1896\n",
            "Epoch 4/5 | D Loss: 1.2357 | G Loss: 0.1919\n",
            "Epoch 4/5 | D Loss: 1.2412 | G Loss: 0.1906\n",
            "Epoch 4/5 | D Loss: 1.2358 | G Loss: 0.1886\n",
            "Epoch 4/5 | D Loss: 1.2384 | G Loss: 0.1902\n",
            "Epoch 4/5 | D Loss: 1.2350 | G Loss: 0.1930\n",
            "Epoch 4/5 | D Loss: 1.2383 | G Loss: 0.1944\n",
            "Epoch 4/5 | D Loss: 1.2337 | G Loss: 0.1908\n",
            "Epoch 4/5 | D Loss: 1.2426 | G Loss: 0.1885\n",
            "Epoch 4/5 | D Loss: 1.2341 | G Loss: 0.1888\n",
            "Epoch 4/5 | D Loss: 1.2322 | G Loss: 0.1888\n",
            "Epoch 4/5 | D Loss: 1.2421 | G Loss: 0.1914\n",
            "Epoch 4/5 | D Loss: 1.2367 | G Loss: 0.1929\n",
            "Epoch 4/5 | D Loss: 1.2376 | G Loss: 0.1871\n",
            "Epoch 4/5 | D Loss: 1.2425 | G Loss: 0.1910\n",
            "Epoch 4/5 | D Loss: 1.2384 | G Loss: 0.1919\n",
            "Epoch 4/5 | D Loss: 1.2325 | G Loss: 0.1905\n",
            "Epoch 4/5 | D Loss: 1.2345 | G Loss: 0.1899\n",
            "Epoch 4/5 | D Loss: 1.2390 | G Loss: 0.1939\n",
            "Epoch 4/5 | D Loss: 1.2315 | G Loss: 0.1925\n",
            "Epoch 4/5 | D Loss: 1.2287 | G Loss: 0.1921\n",
            "Epoch 4/5 | D Loss: 1.2349 | G Loss: 0.1894\n",
            "Epoch 4/5 | D Loss: 1.2404 | G Loss: 0.1913\n",
            "Epoch 4/5 | D Loss: 1.2387 | G Loss: 0.1910\n",
            "Epoch 4/5 | D Loss: 1.2431 | G Loss: 0.1918\n",
            "Epoch 4/5 | D Loss: 1.2369 | G Loss: 0.1886\n",
            "Epoch 4/5 | D Loss: 1.2371 | G Loss: 0.1862\n",
            "Epoch 4/5 | D Loss: 1.2434 | G Loss: 0.1871\n",
            "Epoch 4/5 | D Loss: 1.2290 | G Loss: 0.1922\n",
            "Epoch 4/5 | D Loss: 1.2420 | G Loss: 0.1924\n",
            "Epoch 4/5 | D Loss: 1.2369 | G Loss: 0.1892\n",
            "Epoch 4/5 | D Loss: 1.2448 | G Loss: 0.1919\n",
            "Epoch 4/5 | D Loss: 1.2398 | G Loss: 0.1924\n",
            "Epoch 4/5 | D Loss: 1.2402 | G Loss: 0.1877\n",
            "Epoch 4/5 | D Loss: 1.2406 | G Loss: 0.1905\n",
            "Epoch 4/5 | D Loss: 1.2381 | G Loss: 0.1895\n",
            "Epoch 4/5 | D Loss: 1.2395 | G Loss: 0.1935\n",
            "Epoch 4/5 | D Loss: 1.2415 | G Loss: 0.1906\n",
            "Epoch 4/5 | D Loss: 1.2319 | G Loss: 0.1921\n",
            "Epoch 4/5 | D Loss: 1.2351 | G Loss: 0.1915\n",
            "Epoch 4/5 | D Loss: 1.2364 | G Loss: 0.1916\n",
            "Epoch 4/5 | D Loss: 1.2427 | G Loss: 0.1897\n",
            "Epoch 4/5 | D Loss: 1.2387 | G Loss: 0.1921\n",
            "Epoch 4/5 | D Loss: 1.2399 | G Loss: 0.1911\n",
            "Epoch 4/5 | D Loss: 1.2370 | G Loss: 0.1894\n",
            "Epoch 4/5 | D Loss: 1.2431 | G Loss: 0.1899\n",
            "Epoch 4/5 | D Loss: 1.2391 | G Loss: 0.1926\n",
            "Epoch 4/5 | D Loss: 1.2443 | G Loss: 0.1910\n",
            "Epoch 4/5 | D Loss: 1.2346 | G Loss: 0.1887\n",
            "Epoch 4/5 | D Loss: 1.2366 | G Loss: 0.1909\n",
            "Epoch 4/5 | D Loss: 1.2276 | G Loss: 0.1910\n",
            "Epoch 4/5 | D Loss: 1.2348 | G Loss: 0.1895\n",
            "Epoch 4/5 | D Loss: 1.2408 | G Loss: 0.1919\n",
            "Epoch 4/5 | D Loss: 1.2390 | G Loss: 0.1869\n",
            "Epoch 4/5 | D Loss: 1.2439 | G Loss: 0.1888\n",
            "Epoch 4/5 | D Loss: 1.2472 | G Loss: 0.1883\n",
            "Epoch 4/5 | D Loss: 1.2428 | G Loss: 0.1886\n",
            "Epoch 4/5 | D Loss: 1.2370 | G Loss: 0.1893\n",
            "Epoch 4/5 | D Loss: 1.2330 | G Loss: 0.1916\n",
            "Epoch 4/5 | D Loss: 1.2393 | G Loss: 0.1926\n",
            "Epoch 4/5 | D Loss: 1.2318 | G Loss: 0.1928\n",
            "Epoch 5/5 | D Loss: 1.2458 | G Loss: 0.1900\n",
            "Epoch 5/5 | D Loss: 1.2430 | G Loss: 0.1890\n",
            "Epoch 5/5 | D Loss: 1.2440 | G Loss: 0.1938\n",
            "Epoch 5/5 | D Loss: 1.2454 | G Loss: 0.1925\n",
            "Epoch 5/5 | D Loss: 1.2475 | G Loss: 0.1900\n",
            "Epoch 5/5 | D Loss: 1.2430 | G Loss: 0.1926\n",
            "Epoch 5/5 | D Loss: 1.2450 | G Loss: 0.1890\n",
            "Epoch 5/5 | D Loss: 1.2449 | G Loss: 0.1916\n",
            "Epoch 5/5 | D Loss: 1.2422 | G Loss: 0.1868\n",
            "Epoch 5/5 | D Loss: 1.2295 | G Loss: 0.1893\n",
            "Epoch 5/5 | D Loss: 1.2458 | G Loss: 0.1898\n",
            "Epoch 5/5 | D Loss: 1.2385 | G Loss: 0.1905\n",
            "Epoch 5/5 | D Loss: 1.2477 | G Loss: 0.1875\n",
            "Epoch 5/5 | D Loss: 1.2431 | G Loss: 0.1907\n",
            "Epoch 5/5 | D Loss: 1.2443 | G Loss: 0.1909\n",
            "Epoch 5/5 | D Loss: 1.2452 | G Loss: 0.1881\n",
            "Epoch 5/5 | D Loss: 1.2367 | G Loss: 0.1939\n",
            "Epoch 5/5 | D Loss: 1.2454 | G Loss: 0.1888\n",
            "Epoch 5/5 | D Loss: 1.2418 | G Loss: 0.1896\n",
            "Epoch 5/5 | D Loss: 1.2453 | G Loss: 0.1862\n",
            "Epoch 5/5 | D Loss: 1.2412 | G Loss: 0.1902\n",
            "Epoch 5/5 | D Loss: 1.2428 | G Loss: 0.1912\n",
            "Epoch 5/5 | D Loss: 1.2501 | G Loss: 0.1888\n",
            "Epoch 5/5 | D Loss: 1.2523 | G Loss: 0.1894\n",
            "Epoch 5/5 | D Loss: 1.2379 | G Loss: 0.1883\n",
            "Epoch 5/5 | D Loss: 1.2461 | G Loss: 0.1923\n",
            "Epoch 5/5 | D Loss: 1.2346 | G Loss: 0.1902\n",
            "Epoch 5/5 | D Loss: 1.2379 | G Loss: 0.1856\n",
            "Epoch 5/5 | D Loss: 1.2484 | G Loss: 0.1893\n",
            "Epoch 5/5 | D Loss: 1.2421 | G Loss: 0.1902\n",
            "Epoch 5/5 | D Loss: 1.2379 | G Loss: 0.1901\n",
            "Epoch 5/5 | D Loss: 1.2453 | G Loss: 0.1933\n",
            "Epoch 5/5 | D Loss: 1.2412 | G Loss: 0.1901\n",
            "Epoch 5/5 | D Loss: 1.2439 | G Loss: 0.1891\n",
            "Epoch 5/5 | D Loss: 1.2440 | G Loss: 0.1891\n",
            "Epoch 5/5 | D Loss: 1.2415 | G Loss: 0.1873\n",
            "Epoch 5/5 | D Loss: 1.2399 | G Loss: 0.1902\n",
            "Epoch 5/5 | D Loss: 1.2474 | G Loss: 0.1881\n",
            "Epoch 5/5 | D Loss: 1.2455 | G Loss: 0.1887\n",
            "Epoch 5/5 | D Loss: 1.2310 | G Loss: 0.1890\n",
            "Epoch 5/5 | D Loss: 1.2429 | G Loss: 0.1918\n",
            "Epoch 5/5 | D Loss: 1.2462 | G Loss: 0.1882\n",
            "Epoch 5/5 | D Loss: 1.2397 | G Loss: 0.1925\n",
            "Epoch 5/5 | D Loss: 1.2391 | G Loss: 0.1886\n",
            "Epoch 5/5 | D Loss: 1.2409 | G Loss: 0.1916\n",
            "Epoch 5/5 | D Loss: 1.2420 | G Loss: 0.1939\n",
            "Epoch 5/5 | D Loss: 1.2484 | G Loss: 0.1910\n",
            "Epoch 5/5 | D Loss: 1.2474 | G Loss: 0.1926\n",
            "Epoch 5/5 | D Loss: 1.2380 | G Loss: 0.1933\n",
            "Epoch 5/5 | D Loss: 1.2454 | G Loss: 0.1861\n",
            "Epoch 5/5 | D Loss: 1.2336 | G Loss: 0.1891\n",
            "Epoch 5/5 | D Loss: 1.2407 | G Loss: 0.1857\n",
            "Epoch 5/5 | D Loss: 1.2333 | G Loss: 0.1924\n",
            "Epoch 5/5 | D Loss: 1.2363 | G Loss: 0.1915\n",
            "Epoch 5/5 | D Loss: 1.2403 | G Loss: 0.1889\n",
            "Epoch 5/5 | D Loss: 1.2400 | G Loss: 0.1894\n",
            "Epoch 5/5 | D Loss: 1.2413 | G Loss: 0.1909\n",
            "Epoch 5/5 | D Loss: 1.2411 | G Loss: 0.1919\n",
            "Epoch 5/5 | D Loss: 1.2486 | G Loss: 0.1880\n",
            "Epoch 5/5 | D Loss: 1.2431 | G Loss: 0.1904\n",
            "Epoch 5/5 | D Loss: 1.2466 | G Loss: 0.1919\n",
            "Epoch 5/5 | D Loss: 1.2398 | G Loss: 0.1872\n",
            "Epoch 5/5 | D Loss: 1.2392 | G Loss: 0.1902\n",
            "Epoch 5/5 | D Loss: 1.2386 | G Loss: 0.1871\n",
            "Epoch 5/5 | D Loss: 1.2486 | G Loss: 0.1903\n",
            "Epoch 5/5 | D Loss: 1.2419 | G Loss: 0.1905\n",
            "Epoch 5/5 | D Loss: 1.2385 | G Loss: 0.1917\n",
            "Epoch 5/5 | D Loss: 1.2376 | G Loss: 0.1918\n",
            "Epoch 5/5 | D Loss: 1.2411 | G Loss: 0.1890\n",
            "Epoch 5/5 | D Loss: 1.2374 | G Loss: 0.1885\n",
            "Epoch 5/5 | D Loss: 1.2469 | G Loss: 0.1874\n",
            "Epoch 5/5 | D Loss: 1.2369 | G Loss: 0.1895\n",
            "Epoch 5/5 | D Loss: 1.2428 | G Loss: 0.1910\n",
            "Epoch 5/5 | D Loss: 1.2433 | G Loss: 0.1901\n",
            "Epoch 5/5 | D Loss: 1.2392 | G Loss: 0.1885\n",
            "Epoch 5/5 | D Loss: 1.2375 | G Loss: 0.1891\n",
            "Epoch 5/5 | D Loss: 1.2415 | G Loss: 0.1908\n",
            "Epoch 5/5 | D Loss: 1.2465 | G Loss: 0.1896\n",
            "Epoch 5/5 | D Loss: 1.2413 | G Loss: 0.1861\n",
            "Epoch 5/5 | D Loss: 1.2429 | G Loss: 0.1866\n",
            "Epoch 5/5 | D Loss: 1.2435 | G Loss: 0.1884\n",
            "Epoch 5/5 | D Loss: 1.2390 | G Loss: 0.1899\n",
            "Epoch 5/5 | D Loss: 1.2400 | G Loss: 0.1896\n",
            "Epoch 5/5 | D Loss: 1.2483 | G Loss: 0.1898\n",
            "Epoch 5/5 | D Loss: 1.2394 | G Loss: 0.1872\n",
            "Epoch 5/5 | D Loss: 1.2381 | G Loss: 0.1899\n",
            "Epoch 5/5 | D Loss: 1.2411 | G Loss: 0.1915\n",
            "Epoch 5/5 | D Loss: 1.2527 | G Loss: 0.1893\n",
            "Epoch 5/5 | D Loss: 1.2348 | G Loss: 0.1904\n",
            "Epoch 5/5 | D Loss: 1.2349 | G Loss: 0.1902\n",
            "Epoch 5/5 | D Loss: 1.2501 | G Loss: 0.1875\n",
            "Epoch 5/5 | D Loss: 1.2395 | G Loss: 0.1903\n",
            "Epoch 5/5 | D Loss: 1.2436 | G Loss: 0.1866\n",
            "Epoch 5/5 | D Loss: 1.2407 | G Loss: 0.1906\n",
            "Epoch 5/5 | D Loss: 1.2363 | G Loss: 0.1852\n",
            "Epoch 5/5 | D Loss: 1.2464 | G Loss: 0.1895\n",
            "Epoch 5/5 | D Loss: 1.2401 | G Loss: 0.1903\n",
            "Epoch 5/5 | D Loss: 1.2426 | G Loss: 0.1883\n"
          ]
        },
        {
          "output_type": "display_data",
          "data": {
            "text/plain": [
              "<Figure size 640x480 with 1 Axes>"
            ],
            "image/png": "[encoded data removed]"
          },
          "metadata": {}
        }
      ]
    }
  ]
}